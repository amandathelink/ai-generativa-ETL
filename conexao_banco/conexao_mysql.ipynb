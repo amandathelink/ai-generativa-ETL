{
 "cells": [
  {
   "cell_type": "code",
   "execution_count": 19,
   "metadata": {},
   "outputs": [],
   "source": [
    "# Importando as bibliotecas necessárias \n",
    "import mysql.connector\n",
    "from mysql.connector import Error\n",
    "import os\n",
    "import csv\n",
    "mysql_password = os.environ.get('mysql_password')"
   ]
  },
  {
   "cell_type": "code",
   "execution_count": 20,
   "metadata": {},
   "outputs": [
    {
     "name": "stdout",
     "output_type": "stream",
     "text": [
      "Conexão bem-sucedida!\n",
      "Conexão fechada.\n"
     ]
    }
   ],
   "source": [
    "# Configuração da conexão\n",
    "config = {\n",
    "    'user': 'root',\n",
    "    'password': mysql_password,\n",
    "    'host': 'localhost',\n",
    "    'database': 'clientes_confeitaria',\n",
    "    'raise_on_warnings': True\n",
    "}\n",
    "# Iniciando a conexão\n",
    "try:\n",
    "    conn = mysql.connector.connect(**config)\n",
    "    print('Conexão bem-sucedida!')\n",
    "\n",
    "except mysql.connector.Error as err:\n",
    "    print(f'Erro ao conectar ao banco de dados: {err}')\n",
    "finally:\n",
    "    # Fechando a conexão\n",
    "    if conn.is_connected():\n",
    "        conn.close()\n",
    "        print('Conexão fechada.')"
   ]
  },
  {
   "cell_type": "code",
   "execution_count": 21,
   "metadata": {},
   "outputs": [
    {
     "name": "stdout",
     "output_type": "stream",
     "text": [
      "Foi excluido com sucesso: clientes\n",
      "Conexão fechada.\n"
     ]
    }
   ],
   "source": [
    "try:\n",
    "    # Estabelecendo a conexão\n",
    "    conn = mysql.connector.connect(**config)\n",
    "    delete_tabelas = conn.cursor()\n",
    "    # Desativando restrições de chave estrangeira\n",
    "    delete_tabelas.execute(\"SET FOREIGN_KEY_CHECKS = 0\")\n",
    "\n",
    "    # Obter a lista de tabelas\n",
    "    delete_tabelas.execute(\"SHOW TABLES\")\n",
    "    tables = delete_tabelas.fetchall()\n",
    "\n",
    "    for table in tables: \n",
    "        table_name = table[0]\n",
    "        drop_table_query = f\"DROP TABLE {table_name}\"\n",
    "        delete_tabelas.execute(drop_table_query)\n",
    "        print(f\"Foi excluido com sucesso: {table_name}\")\n",
    "\n",
    "    # Ativando restrições de chave estrangeira novamente\n",
    "    delete_tabelas.execute(\"SET FOREIGN_KEY_CHECKS = 1\")\n",
    "\n",
    "    conn.commit()\n",
    "\n",
    "except mysql.connector.Error as  err:\n",
    "        print(f\"Erro ao excluir registros: {err}\")\n",
    "\n",
    "finally: \n",
    "        if delete_tabelas:\n",
    "            delete_tabelas.close()\n",
    "        if  conn.is_connected():\n",
    "             conn.close()\n",
    "             print(\"Conexão fechada.\")"
   ]
  },
  {
   "cell_type": "code",
   "execution_count": 22,
   "metadata": {},
   "outputs": [
    {
     "name": "stdout",
     "output_type": "stream",
     "text": [
      "Tabela criada com sucesso!\n",
      "Conexão fechada.\n"
     ]
    }
   ],
   "source": [
    "# Criando a tabela\n",
    "def criar_tabela():\n",
    "    try:\n",
    "        # Conectando ao banco de dados\n",
    "        conn = mysql.connector.connect(**config)\n",
    "        cursor = conn.cursor()\n",
    "\n",
    "        # Criando a tabela\n",
    "        CREATE_TABLE_CLIENTES = \"\"\"\n",
    "        CREATE TABLE clientes (\n",
    "        id_cliente INT PRIMARY KEY,\n",
    "        nome_cliente VARCHAR(255),\n",
    "        numero_telefone VARCHAR(20),\n",
    "        total_consumido DECIMAL(10, 2),\n",
    "        produto_mais_comprado VARCHAR(255),\n",
    "        data_ultima_compra DATE,\n",
    "        mensagem_personalizada VARCHAR(255)\n",
    "    );\n",
    "    \"\"\"\n",
    "\n",
    "        # Executando a consulta SQL\n",
    "        cursor.execute(CREATE_TABLE_CLIENTES)\n",
    "        print(\"Tabela criada com sucesso!\")\n",
    "\n",
    "    except mysql.connector.Error as err:\n",
    "        print(f'Erro ao criar as tabelas: {err}')\n",
    "\n",
    "    finally:\n",
    "        # Fechando a conexão\n",
    "        if 'conn' in locals() and conn.is_connected():\n",
    "            cursor.close()\n",
    "            conn.close()\n",
    "            print('Conexão fechada.')\n",
    "criar_tabela()\n"
   ]
  },
  {
   "cell_type": "code",
   "execution_count": 28,
   "metadata": {},
   "outputs": [
    {
     "name": "stdout",
     "output_type": "stream",
     "text": [
      "Erro ao alimentar tabelas: 1265: Data truncated for column 'mensagem_personalizada' at row 1\n"
     ]
    }
   ],
   "source": [
    "# Inserindo dados nas tabelas através do Python\n",
    "def inserir_dados():\n",
    "    try:\n",
    "        conn = mysql.connector.connect(**config)\n",
    "        cursor = conn.cursor()\n",
    "\n",
    "        with open(r\"C:\\Users\\Usuário\\Desktop\\desafio-dio-ETL\\csv\\clientes_final.csv\", encoding='utf-8') as clientes_csv:\n",
    "            leitor_csv = csv.reader(clientes_csv, delimiter=',')\n",
    "            next(leitor_csv)\n",
    "            dados = list(leitor_csv)\n",
    "\n",
    "            # Inserindo dados na tabela clientes\n",
    "            INSERT_CLIENTES = \"\"\"\n",
    "            INSERT INTO clientes (id_cliente, nome_cliente, numero_telefone, total_consumido, produto_mais_comprado, data_ultima_compra, mensagem_personalizada)\n",
    "            VALUES (%s, %s, %s, %s, %s, %s, %s)\n",
    "            \"\"\"\n",
    "\n",
    "            # Executar a inserção das linhas\n",
    "            cursor.executemany(INSERT_CLIENTES, dados)\n",
    "            # Confirmar as alterações\n",
    "            conn.commit()\n",
    "            # Fechar a conexão\n",
    "            conn.close()\n",
    "\n",
    "    except mysql.connector.Error as err:\n",
    "        print(f'Erro ao alimentar tabelas: {err}')\n",
    "\n",
    "    finally:\n",
    "        # Fechando a conexão\n",
    "        if 'conn' in locals() and conn.is_connected():\n",
    "            cursor.close()\n",
    "            conn.close()\n",
    "\n",
    "inserir_dados()\n",
    "            \n"
   ]
  },
  {
   "cell_type": "code",
   "execution_count": 26,
   "metadata": {},
   "outputs": [
    {
     "name": "stdout",
     "output_type": "stream",
     "text": [
      "Erro do MySQL: 1366: Incorrect integer value: 'id_cliente' for column `clientes_confeitaria`.`clientes`.`id_cliente` at row 1\n"
     ]
    }
   ],
   "source": [
    "def inserir_dados():\n",
    "    try:\n",
    "        conn = mysql.connector.connect(**config)\n",
    "        cursor = conn.cursor()\n",
    "        cursor = conn.cursor()\n",
    "\n",
    "        with open(r\"C:\\Users\\Usuário\\Desktop\\desafio-dio-ETL\\csv\\clientes_final.csv\", encoding='utf-8') as clientes_csv:\n",
    "            leitor_csv = csv.reader(clientes_csv, delimiter=',')\n",
    "            \n",
    "            for linha in leitor_csv:\n",
    "                # Defina sua consulta SQL de inserção aqui\n",
    "                INSERT_CLIENTES = \"\"\"\n",
    "                INSERT INTO clientes (id_cliente, nome_cliente, numero_telefone, total_consumido, produto_mais_comprado, data_ultima_compra, mensagem_personalizada)\n",
    "                VALUES (%s, %s, %s, %s, %s, %s, %s)\n",
    "                \"\"\"\n",
    "                # Executar a inserção da linha atual\n",
    "                cursor.execute(INSERT_CLIENTES, linha)\n",
    "\n",
    "            # Confirmar as alterações\n",
    "            conn.commit()\n",
    "\n",
    "    except mysql.connector.Error as e:\n",
    "        print(f\"Erro do MySQL: {e}\")\n",
    "    except Exception as e:\n",
    "        print(f\"Ocorreu um erro: {e}\")\n",
    "    finally:\n",
    "        # Fechar o cursor e a conexão\n",
    "        if cursor:\n",
    "            cursor.close()\n",
    "        if conn:\n",
    "            conn.close()\n",
    "\n",
    "inserir_dados()"
   ]
  }
 ],
 "metadata": {
  "kernelspec": {
   "display_name": "Python 3",
   "language": "python",
   "name": "python3"
  },
  "language_info": {
   "codemirror_mode": {
    "name": "ipython",
    "version": 3
   },
   "file_extension": ".py",
   "mimetype": "text/x-python",
   "name": "python",
   "nbconvert_exporter": "python",
   "pygments_lexer": "ipython3",
   "version": "3.11.3"
  },
  "orig_nbformat": 4
 },
 "nbformat": 4,
 "nbformat_minor": 2
}
